{
 "cells": [
  {
   "cell_type": "code",
   "execution_count": 1,
   "metadata": {},
   "outputs": [
    {
     "name": "stdout",
     "output_type": "stream",
     "text": [
      "twinkle, twinkle, little star,\n",
      "\tHow I wonder what you are!\n",
      "\t\tUp above the world so high,\n",
      "\t\tLike a diamond in the sky,\n",
      "Twinkle, twinkle, little star,\n",
      "\tHow I wonder what you are!\n"
     ]
    }
   ],
   "source": [
    "a =(\"twinkle, twinkle, little star,\" \"\\n\\t\" \n",
    "    \"How I wonder what you are!\" ) \n",
    "\n",
    "b =(\"Up above the world so high,\" \"\\n\\t\\t\" \n",
    "   \"Like a diamond in the sky,\")\n",
    "\n",
    "c =(\"Twinkle, twinkle, little star,\" \"\\n\\t\" \n",
    "    \"How I wonder what you are!\")\n",
    "\n",
    "print (a + \"\\n\\t\\t\" +b + \"\\n\" + c)"
   ]
  },
  {
   "cell_type": "code",
   "execution_count": 2,
   "metadata": {},
   "outputs": [
    {
     "name": "stdout",
     "output_type": "stream",
     "text": [
      "Python version\n",
      "3.7.4 (default, Aug  9 2019, 18:34:13) [MSC v.1915 64 bit (AMD64)]\n",
      "Version info.\n",
      "sys.version_info(major=3, minor=7, micro=4, releaselevel='final', serial=0)\n"
     ]
    }
   ],
   "source": [
    "import sys\n",
    "print(\"Python version\")\n",
    "print (sys.version)\n",
    "print(\"Version info.\")\n",
    "print (sys.version_info)\n"
   ]
  },
  {
   "cell_type": "code",
   "execution_count": 3,
   "metadata": {},
   "outputs": [
    {
     "name": "stdout",
     "output_type": "stream",
     "text": [
      "Current Date & Time : \n",
      "02:34:51 01/04/20 \n"
     ]
    }
   ],
   "source": [
    "import datetime\n",
    "now = datetime.datetime.now()\n",
    "a=(\"Current Date & Time : \")\n",
    "b= (now.strftime(\"%H:%M:%S %D \"))\n",
    "print (a+\"\\n\"+b)"
   ]
  },
  {
   "cell_type": "code",
   "execution_count": 4,
   "metadata": {},
   "outputs": [
    {
     "name": "stdout",
     "output_type": "stream",
     "text": [
      "Tabassum Syeda\n"
     ]
    }
   ],
   "source": [
    "First_name= (\"Syeda\")\n",
    "Last_name= (\"Tabassum\")\n",
    "print (Last_name + \" \" +First_name)"
   ]
  },
  {
   "cell_type": "code",
   "execution_count": 5,
   "metadata": {},
   "outputs": [
    {
     "name": "stdout",
     "output_type": "stream",
     "text": [
      "Enter Your First Number: 2\n",
      "Enter Your Second Number: 2\n",
      "Addition: 4\n"
     ]
    }
   ],
   "source": [
    "a = int(input(\"Enter Your First Number: \"))\n",
    "b = int(input(\"Enter Your Second Number: \"))\n",
    "addition = a + b \n",
    "print(\"Addition:\", addition)"
   ]
  },
  {
   "cell_type": "markdown",
   "metadata": {},
   "source": [
    "PI = 3.142\n",
    "radius = float(input(' Please Enter the radius of a circle: '))\n",
    "area = PI * radius \n",
    "\n",
    "\n",
    "print(\" Area Of a Circle = %.1f \" %area)"
   ]
  },
  {
   "cell_type": "markdown",
   "metadata": {},
   "source": [
    "PI = 3.142\n",
    "radius = float(input(' Please Enter the radius of a circle: '))\n",
    "area = PI * radius \n",
    "\n",
    "\n",
    "print(\" Area Of a Circle = %.1f \" %area)"
   ]
  },
  {
   "cell_type": "markdown",
   "metadata": {},
   "source": []
  },
  {
   "cell_type": "code",
   "execution_count": null,
   "metadata": {},
   "outputs": [],
   "source": [
    "PI = 3.142\n",
    "radius = float(input(' Please Enter the radius of a circle: '))\n",
    "area = PI * radius \n",
    "\n",
    "\n",
    "print(\" Area Of a Circle = %.1f \" %area)"
   ]
  },
  {
   "cell_type": "code",
   "execution_count": null,
   "metadata": {},
   "outputs": [],
   "source": []
  }
 ],
 "metadata": {
  "kernelspec": {
   "display_name": "Python 3",
   "language": "python",
   "name": "python3"
  },
  "language_info": {
   "codemirror_mode": {
    "name": "ipython",
    "version": 3
   },
   "file_extension": ".py",
   "mimetype": "text/x-python",
   "name": "python",
   "nbconvert_exporter": "python",
   "pygments_lexer": "ipython3",
   "version": "3.7.4"
  }
 },
 "nbformat": 4,
 "nbformat_minor": 2
}
