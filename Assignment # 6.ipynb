{
 "cells": [
  {
   "cell_type": "code",
   "execution_count": 1,
   "metadata": {},
   "outputs": [
    {
     "name": "stdout",
     "output_type": "stream",
     "text": [
      "52\n",
      "red\n",
      "42\n",
      "black\n",
      "44\n",
      "6\n",
      "62\n"
     ]
    }
   ],
   "source": [
    "class Car():\n",
    "    def __init__(self, model,color,name, passengers,speed):\n",
    "        self.model = model\n",
    "        self.color = color\n",
    "        self.passengers = passengers\n",
    "        self.speed = speed\n",
    "        #default attribute\n",
    "        self.carName ='ferrari'\n",
    "\n",
    "    def accelerate(self):\n",
    "        self.speed = self.speed + 2\n",
    "        print (self.speed)\n",
    "    \n",
    "    def updateName (self,newName):\n",
    "        self.name=newName\n",
    "    \n",
    "    def updateColor (self,newColor):\n",
    "        self.color=newColor\n",
    "    \n",
    "\n",
    "        \n",
    "bmw = Car(2000,\"red\",\"BMW\", 4,50)\n",
    "ferrari = Car(2009,\"black\",\"Ferrari\", 2, 40)\n",
    "ford = Car(2010,\"yellow\",\"Ford\", 6,60)\n",
    "\n",
    "bmw.accelerate()\n",
    "print (bmw.color)\n",
    "\n",
    "ferrari.accelerate()\n",
    "print (ferrari.color)\n",
    "ferrari.accelerate() #note that the speed has been updated from the previous accelerate call\n",
    "\n",
    "print (ford.passengers)\n",
    "ford.accelerate()"
   ]
  },
  {
   "cell_type": "code",
   "execution_count": null,
   "metadata": {},
   "outputs": [],
   "source": []
  }
 ],
 "metadata": {
  "kernelspec": {
   "display_name": "Python 3",
   "language": "python",
   "name": "python3"
  },
  "language_info": {
   "codemirror_mode": {
    "name": "ipython",
    "version": 3
   },
   "file_extension": ".py",
   "mimetype": "text/x-python",
   "name": "python",
   "nbconvert_exporter": "python",
   "pygments_lexer": "ipython3",
   "version": "3.7.4"
  }
 },
 "nbformat": 4,
 "nbformat_minor": 2
}
