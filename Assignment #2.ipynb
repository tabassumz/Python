{
 "cells": [
  {
   "cell_type": "code",
   "execution_count": 1,
   "metadata": {},
   "outputs": [
    {
     "name": "stdout",
     "output_type": "stream",
     "text": [
      "lenght of list is 11\n"
     ]
    }
   ],
   "source": [
    "b=[1,1,2,3,5,8,13,21,34,55,89]\n",
    "n= len(b)\n",
    "print(\"lenght of list is\", n)"
   ]
  },
  {
   "cell_type": "code",
   "execution_count": 3,
   "metadata": {},
   "outputs": [
    {
     "name": "stdout",
     "output_type": "stream",
     "text": [
      "sum is  232\n"
     ]
    }
   ],
   "source": [
    "b=[1,1,2,3,5,8,13,21,34,55,89]\n",
    "print(\"sum is \", sum (b))"
   ]
  },
  {
   "cell_type": "code",
   "execution_count": 8,
   "metadata": {},
   "outputs": [
    {
     "name": "stdout",
     "output_type": "stream",
     "text": [
      "Largest element is: 99\n"
     ]
    }
   ],
   "source": [
    "b = [10, 20, 4, 45, 99] \n",
    "print(\"Largest element is:\", max(b)) "
   ]
  },
  {
   "cell_type": "code",
   "execution_count": 11,
   "metadata": {},
   "outputs": [
    {
     "name": "stdout",
     "output_type": "stream",
     "text": [
      "1\n",
      "1\n",
      "2\n",
      "3\n"
     ]
    }
   ],
   "source": [
    "b = [1,1,2,3,5,8,13,21,34,55,89] \n",
    "for x in b:\n",
    "    if x < 5:\n",
    "        print(x)"
   ]
  },
  {
   "cell_type": "code",
   "execution_count": 18,
   "metadata": {},
   "outputs": [
    {
     "name": "stdout",
     "output_type": "stream",
     "text": [
      "Enter a number: 4\n",
      "Even\n"
     ]
    }
   ],
   "source": [
    "num = int(input(\"Enter a number: \"))\n",
    "if (num % 2) == 0:\n",
    "   print(\"Even\")\n",
    "else:\n",
    "   print(\"Odd\")\n"
   ]
  },
  {
   "cell_type": "code",
   "execution_count": 44,
   "metadata": {},
   "outputs": [
    {
     "name": "stdout",
     "output_type": "stream",
     "text": [
      "Enter a Urdu marks: 51\n",
      "Enter a Islamiat marks: 51\n",
      "Enter a Science marks: 51\n",
      "Enter a Physics marks: 51\n",
      "Enter a Chemistry marks: 51\n",
      "You got C+ grade\n"
     ]
    }
   ],
   "source": [
    "urdu = int(input(\"Enter a Urdu marks: \"))\n",
    "isl = int(input(\"Enter a Islamiat marks: \"))\n",
    "sci = int(input(\"Enter a Science marks: \"))\n",
    "phy = int(input(\"Enter a Physics marks: \"))\n",
    "chem = int(input(\"Enter a Chemistry marks: \"))\n",
    "total= urdu + isl + sci + phy + chem\n",
    "num = (total * 100) / 500\n",
    "num=int(num)\n",
    "if num<=100 and num>=80:\n",
    "    print(' You are a Genious and You got A+ grade!')\n",
    "elif num<79 and num>75:\n",
    "    print('You got A grade')\n",
    "elif num < 75 and num > 70:\n",
    "    print('You got A- grade')\n",
    "elif num < 70 and num > 65:\n",
    "    print('You got B+ grade')\n",
    "elif num < 65 and num > 60:\n",
    "    print('You got B grade')\n",
    "elif num <60 and num >50:\n",
    "    print('You got C+ grade')\n",
    "elif num <50 and num >40:\n",
    "    print('You got C grade')\n",
    "elif num<0:\n",
    "    print('Invalid Option!')\n",
    "\n",
    "else :\n",
    "    print('Sorry! You are fail')"
   ]
  },
  {
   "cell_type": "markdown",
   "metadata": {},
   "source": []
  },
  {
   "cell_type": "code",
   "execution_count": null,
   "metadata": {},
   "outputs": [],
   "source": []
  },
  {
   "cell_type": "code",
   "execution_count": null,
   "metadata": {},
   "outputs": [],
   "source": []
  },
  {
   "cell_type": "code",
   "execution_count": null,
   "metadata": {},
   "outputs": [],
   "source": []
  }
 ],
 "metadata": {
  "kernelspec": {
   "display_name": "Python 3",
   "language": "python",
   "name": "python3"
  },
  "language_info": {
   "codemirror_mode": {
    "name": "ipython",
    "version": 3
   },
   "file_extension": ".py",
   "mimetype": "text/x-python",
   "name": "python",
   "nbconvert_exporter": "python",
   "pygments_lexer": "ipython3",
   "version": "3.7.4"
  }
 },
 "nbformat": 4,
 "nbformat_minor": 2
}
