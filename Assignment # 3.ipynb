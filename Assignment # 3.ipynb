{
 "cells": [
  {
   "cell_type": "code",
   "execution_count": 8,
   "metadata": {},
   "outputs": [
    {
     "name": "stdout",
     "output_type": "stream",
     "text": [
      "Chose an operator*\n",
      "6\n"
     ]
    }
   ],
   "source": [
    "a=2\n",
    "b=3\n",
    "c=input(\"Chose an operator\")\n",
    "if c == '+' :\n",
    "        d=a+b\n",
    "        print(d)\n",
    "elif c == '-' :\n",
    "        d=a-b\n",
    "        print(d)\n",
    "elif c == '*' :\n",
    "        d=a*b\n",
    "        print(d)\n",
    "elif c == '/' :\n",
    "        d=a-b\n",
    "        print(d)\n",
    "elif c == '^' :\n",
    "        d=a^b\n",
    "        print(d)\n",
    "\n"
   ]
  },
  {
   "cell_type": "code",
   "execution_count": 9,
   "metadata": {},
   "outputs": [
    {
     "name": "stdout",
     "output_type": "stream",
     "text": [
      "{'name': 'Ali', 'age': 23, 'Language': 'English'}\n"
     ]
    }
   ],
   "source": [
    "Consumer={\"name\":\"Ali\",\"age\" : 23}\n",
    "Consumer[\"Language\"]=\"English\"\n",
    "print(Consumer)"
   ]
  },
  {
   "cell_type": "code",
   "execution_count": 13,
   "metadata": {},
   "outputs": [
    {
     "name": "stdout",
     "output_type": "stream",
     "text": [
      "100\n",
      "300\n",
      "600\n"
     ]
    }
   ],
   "source": [
    "dict = {'a': 100, 'b':200, 'c':300} \n",
    "sum = 0\n",
    "for i in dict: \n",
    "    sum = sum + dict[i] \n",
    "    print (sum)"
   ]
  },
  {
   "cell_type": "code",
   "execution_count": 17,
   "metadata": {},
   "outputs": [
    {
     "name": "stdout",
     "output_type": "stream",
     "text": [
      "True\n"
     ]
    }
   ],
   "source": [
    "listOfElems = ['Hello', 'Ok', 'is', 'Ok', 'test', 'this', 'is', 'a', 'test']\n",
    "if len(listOfElems) == len(set(listOfElems)):\n",
    "        print (\"False\")\n",
    "else:\n",
    "        print (\"True\")"
   ]
  },
  {
   "cell_type": "code",
   "execution_count": 22,
   "metadata": {},
   "outputs": [
    {
     "name": "stdout",
     "output_type": "stream",
     "text": [
      "yes! and value for that key is  = 200\n"
     ]
    }
   ],
   "source": [
    "dict = {'a': 100, 'b':200, 'c':300}\n",
    "key='b'\n",
    "if key in dict:  \n",
    "        print(\"yes! and value for that key is  = \", dict[key]) \n",
    "else: \n",
    "        print(\"Not present\") "
   ]
  },
  {
   "cell_type": "code",
   "execution_count": null,
   "metadata": {},
   "outputs": [],
   "source": []
  }
 ],
 "metadata": {
  "kernelspec": {
   "display_name": "Python 3",
   "language": "python",
   "name": "python3"
  },
  "language_info": {
   "codemirror_mode": {
    "name": "ipython",
    "version": 3
   },
   "file_extension": ".py",
   "mimetype": "text/x-python",
   "name": "python",
   "nbconvert_exporter": "python",
   "pygments_lexer": "ipython3",
   "version": "3.7.4"
  }
 },
 "nbformat": 4,
 "nbformat_minor": 2
}
