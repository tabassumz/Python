{
 "cells": [
  {
   "cell_type": "code",
   "execution_count": 23,
   "metadata": {},
   "outputs": [
    {
     "data": {
      "text/plain": [
       "['not faulty']"
      ]
     },
     "execution_count": 23,
     "metadata": {},
     "output_type": "execute_result"
    }
   ],
   "source": [
    "class Car:\n",
    "\n",
    "    color = 'black'\n",
    "    model = '2009'\n",
    "    company = 'suzuki'\n",
    "    size = 'small'\n",
    "    wheels = 'four'\n",
    "\n",
    "    def __init__(self, name):\n",
    "        self.name = name\n",
    "        self.accident = []\n",
    "\n",
    "    def add_trick(self, faulty):\n",
    "        self.accident.append(faulty)\n",
    "\n",
    "a = Car('alto')\n",
    "b = Car('coure')\n",
    "c = Car('vagon r')\n",
    "a.add_trick('not faulty')\n",
    "\n",
    "a.accident"
   ]
  },
  {
   "cell_type": "code",
   "execution_count": null,
   "metadata": {},
   "outputs": [],
   "source": []
  }
 ],
 "metadata": {
  "kernelspec": {
   "display_name": "Python 3",
   "language": "python",
   "name": "python3"
  },
  "language_info": {
   "codemirror_mode": {
    "name": "ipython",
    "version": 3
   },
   "file_extension": ".py",
   "mimetype": "text/x-python",
   "name": "python",
   "nbconvert_exporter": "python",
   "pygments_lexer": "ipython3",
   "version": "3.7.4"
  }
 },
 "nbformat": 4,
 "nbformat_minor": 2
}
