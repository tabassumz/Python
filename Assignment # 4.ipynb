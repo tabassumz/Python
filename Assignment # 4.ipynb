{
 "cells": [
  {
   "cell_type": "code",
   "execution_count": 1,
   "metadata": {},
   "outputs": [
    {
     "name": "stdout",
     "output_type": "stream",
     "text": [
      "{'first_name ': 'tabassum', 'last_name': 'zehra', 'age': 23, 'city ': 'karachi'}\n",
      "{'first_name ': 'tabassum', 'last_name': 'zehra', 'age': 23, 'city ': 'karachi', 'qualification': 'engineer'}\n",
      "{'first_name ': 'tabassum', 'last_name': 'zehra', 'age': 23, 'city ': 'karachi', 'qualification': 'phd'}\n",
      "{'first_name ': 'tabassum', 'last_name': 'zehra', 'age': 23, 'city ': 'karachi'}\n"
     ]
    }
   ],
   "source": [
    "dictionary = { \"first_name \" : \"tabassum\" , \"last_name\":\"zehra\" , \"age\" : 23 , \"city \": \"karachi\"}\n",
    "print(dictionary)\n",
    "dictionary[\"qualification\"]=\"engineer\"\n",
    "print(dictionary)\n",
    "dictionary[\"qualification\"]=\"phd\"\n",
    "print(dictionary)\n",
    "del dictionary [\"qualification\"]\n",
    "print(dictionary)"
   ]
  },
  {
   "cell_type": "code",
   "execution_count": 2,
   "metadata": {},
   "outputs": [
    {
     "name": "stdout",
     "output_type": "stream",
     "text": [
      "{'karachi': {'country': 'pakistan', 'population': '100', 'fact': 'City of lights'}, 'toronto': {'country': 'canada', 'population': '50', 'fact': 'cold'}, 'bombay': {'country': 'india', 'population': 200, 'fact': 'crowded'}}\n"
     ]
    }
   ],
   "source": [
    "cities={\n",
    "\"karachi\":{\n",
    "     \"country\":\"pakistan\",\n",
    "     \"population\": \"100\" ,\n",
    "     \"fact\":\"City of lights\"\n",
    "},\n",
    "\"toronto\":{\n",
    "    \"country\":\"canada\",\n",
    "    \"population\":\"50\",\n",
    "    \"fact\":\"cold\"\n",
    "},\n",
    "\"bombay\":{\"country\":\"india\",\n",
    "          \"population\":200,\n",
    "          \"fact\":\"crowded\"\n",
    "}\n",
    "}\n",
    "print (cities)"
   ]
  },
  {
   "cell_type": "code",
   "execution_count": 4,
   "metadata": {},
   "outputs": [
    {
     "name": "stdout",
     "output_type": "stream",
     "text": [
      "Please enter age7\n",
      "Yout ticket is $10\n"
     ]
    }
   ],
   "source": [
    "age=int(input(\"Please enter age\"))\n",
    "if age == 3:\n",
    " print(\"your ticket is free\")\n",
    "elif age >3 and age <=12 :\n",
    " print(\"Yout ticket is $10\")\n",
    "else:\n",
    " print(\"Yout ticket is $15\")"
   ]
  },
  {
   "cell_type": "code",
   "execution_count": 12,
   "metadata": {},
   "outputs": [
    {
     "name": "stdout",
     "output_type": "stream",
     "text": [
      "My favourite book is : Alice and the wonderland\n"
     ]
    }
   ],
   "source": [
    "def favourite_book( title):\n",
    " print(\"My favourite book is : \" + title)\n",
    "\n",
    "favourite_book(\"Alice and the wonderland\")    "
   ]
  },
  {
   "cell_type": "code",
   "execution_count": null,
   "metadata": {},
   "outputs": [],
   "source": [
    "import random\n",
    "number=random.randint(1,10)\n",
    "guess=int(input(\"Guess a number between 1 and 10\"))\n",
    "if guess==number:\n",
    "  print(\"You got it!\")\n",
    "else:\n",
    "  guess=int(input(\"Nope, guess again:\"))\n",
    "if guess==number:\n",
    " print(\"You got it!\")\n",
    "else:\n",
    " guess=int(input(\"Nope, last chance:\"))\n",
    "if guess==number:\n",
    " print(\"You got it!\")\n",
    "else:\n",
    " print(\"The number I picked was\", number)"
   ]
  },
  {
   "cell_type": "code",
   "execution_count": null,
   "metadata": {},
   "outputs": [],
   "source": []
  },
  {
   "cell_type": "code",
   "execution_count": null,
   "metadata": {},
   "outputs": [],
   "source": []
  },
  {
   "cell_type": "code",
   "execution_count": null,
   "metadata": {},
   "outputs": [],
   "source": []
  },
  {
   "cell_type": "code",
   "execution_count": null,
   "metadata": {},
   "outputs": [],
   "source": []
  }
 ],
 "metadata": {
  "kernelspec": {
   "display_name": "Python 3",
   "language": "python",
   "name": "python3"
  },
  "language_info": {
   "codemirror_mode": {
    "name": "ipython",
    "version": 3
   },
   "file_extension": ".py",
   "mimetype": "text/x-python",
   "name": "python",
   "nbconvert_exporter": "python",
   "pygments_lexer": "ipython3",
   "version": "3.7.4"
  }
 },
 "nbformat": 4,
 "nbformat_minor": 2
}
